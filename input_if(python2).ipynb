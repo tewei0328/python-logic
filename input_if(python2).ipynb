{
  "nbformat": 4,
  "nbformat_minor": 0,
  "metadata": {
    "colab": {
      "name": "input-if(python2).ipynb",
      "version": "0.3.2",
      "provenance": [],
      "include_colab_link": true
    },
    "kernelspec": {
      "name": "python2",
      "display_name": "Python 2"
    }
  },
  "cells": [
    {
      "cell_type": "markdown",
      "metadata": {
        "id": "view-in-github",
        "colab_type": "text"
      },
      "source": [
        "<a href=\"https://colab.research.google.com/github/tewei0328/python-logic/blob/master/input_if(python2).ipynb\" target=\"_parent\"><img src=\"https://colab.research.google.com/assets/colab-badge.svg\" alt=\"Open In Colab\"/></a>"
      ]
    },
    {
      "metadata": {
        "id": "cfewvFXNy1in",
        "colab_type": "code",
        "outputId": "6edb6bf1-1864-4f03-d933-ec03b825bb34",
        "colab": {
          "base_uri": "https://localhost:8080/",
          "height": 131
        }
      },
      "cell_type": "code",
      "source": [
        "print \"Please Type Something\"\n",
        "resp = raw_input()\n",
        "\n",
        "if resp *contains* \"cuttlefish\"\n",
        "    print  \"Response One\"\n",
        "elif resp *contains* \"nautilus\"\n",
        "    print \"Response Two\"\n",
        "else:\n",
        "    print \"Response Three\""
      ],
      "execution_count": 0,
      "outputs": [
        {
          "output_type": "error",
          "ename": "SyntaxError",
          "evalue": "ignored",
          "traceback": [
            "\u001b[0;36m  File \u001b[0;32m\"<ipython-input-1-9fae56706674>\"\u001b[0;36m, line \u001b[0;32m4\u001b[0m\n\u001b[0;31m    if resp *contains* \"cuttlefish\"\u001b[0m\n\u001b[0m                                   ^\u001b[0m\n\u001b[0;31mSyntaxError\u001b[0m\u001b[0;31m:\u001b[0m invalid syntax\n"
          ]
        }
      ]
    },
    {
      "metadata": {
        "id": "Fn0StCqzzGRT",
        "colab_type": "code",
        "outputId": "7a2f79c9-d252-4a14-da14-9c42c8448bcf",
        "colab": {
          "base_uri": "https://localhost:8080/",
          "height": 68
        }
      },
      "cell_type": "code",
      "source": [
        "print \"Please Type Something\"\n",
        "resp = raw_input()\n",
        "\n",
        "if \"cuttlefish\" in resp:\n",
        "    print \"Response One\"\n",
        "elif \"nautilus\" in resp:\n",
        "    print \"Response Two\"\n",
        "else:\n",
        "    print \"Response Three\""
      ],
      "execution_count": 0,
      "outputs": [
        {
          "output_type": "stream",
          "text": [
            "Please Type Something\n",
            "cuttlefish\n",
            "Response One\n"
          ],
          "name": "stdout"
        }
      ]
    }
  ]
}