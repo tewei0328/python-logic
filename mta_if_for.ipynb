{
  "nbformat": 4,
  "nbformat_minor": 0,
  "metadata": {
    "colab": {
      "name": "mta-if for.ipynb",
      "version": "0.3.2",
      "provenance": [],
      "include_colab_link": true
    },
    "kernelspec": {
      "name": "python3",
      "display_name": "Python 3"
    }
  },
  "cells": [
    {
      "cell_type": "markdown",
      "metadata": {
        "id": "view-in-github",
        "colab_type": "text"
      },
      "source": [
        "<a href=\"https://colab.research.google.com/github/tewei0328/python-logic/blob/master/mta_if_for.ipynb\" target=\"_parent\"><img src=\"https://colab.research.google.com/assets/colab-badge.svg\" alt=\"Open In Colab\"/></a>"
      ]
    },
    {
      "metadata": {
        "id": "KGkK1Ov49VyS",
        "colab_type": "text"
      },
      "cell_type": "markdown",
      "source": [
        "MTA if, for"
      ]
    },
    {
      "metadata": {
        "id": "OpmVzdftTk0G",
        "colab_type": "code",
        "outputId": "d8199ad3-80fc-4205-b91d-ce908705a818",
        "colab": {
          "base_uri": "https://localhost:8080/",
          "height": 34
        }
      },
      "cell_type": "code",
      "source": [
        "i=0\n",
        "x=1\n",
        "for i in range(0,4):\n",
        "  x=2*i  \n",
        "  \n",
        "print(x)"
      ],
      "execution_count": 0,
      "outputs": [
        {
          "output_type": "stream",
          "text": [
            "6\n"
          ],
          "name": "stdout"
        }
      ]
    },
    {
      "metadata": {
        "id": "tGUteJw3V3FA",
        "colab_type": "code",
        "outputId": "3071b7c3-747f-49c5-f10f-c5c0197583e6",
        "colab": {
          "base_uri": "https://localhost:8080/",
          "height": 119
        }
      },
      "cell_type": "code",
      "source": [
        "for i in range(0,11,2):\n",
        "  print(\"Hello\")"
      ],
      "execution_count": 0,
      "outputs": [
        {
          "output_type": "stream",
          "text": [
            "Hello\n",
            "Hello\n",
            "Hello\n",
            "Hello\n",
            "Hello\n",
            "Hello\n"
          ],
          "name": "stdout"
        }
      ]
    },
    {
      "metadata": {
        "id": "Eu4PavoadVtJ",
        "colab_type": "code",
        "outputId": "0ff4423c-94f2-4a1e-c5da-e8e5568ba7a6",
        "colab": {
          "base_uri": "https://localhost:8080/",
          "height": 34
        }
      },
      "cell_type": "code",
      "source": [
        "beakerFull = True\n",
        "FlameOn = False\n",
        "iResult = 0\n",
        "\n",
        "if beakerFull == True:\n",
        "  if FlameOn == True:\n",
        "    iResult=1\n",
        "  else:\n",
        "    iResult=2\n",
        "else:\n",
        "  iResult=3\n",
        "  \n",
        "print(iResult)"
      ],
      "execution_count": 0,
      "outputs": [
        {
          "output_type": "stream",
          "text": [
            "2\n"
          ],
          "name": "stdout"
        }
      ]
    }
  ]
}